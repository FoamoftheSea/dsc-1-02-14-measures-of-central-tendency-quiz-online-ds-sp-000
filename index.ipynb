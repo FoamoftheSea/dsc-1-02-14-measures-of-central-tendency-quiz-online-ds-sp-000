{
 "cells": [
  {
   "cell_type": "markdown",
   "metadata": {},
   "source": [
    "# Measures of Central Tendency - Quiz\n",
    "\n",
    "## Objectives\n",
    "You will be able to:\n",
    "* Understand and describe the significance of measuring central tendency of continuous data\n",
    "* Understand the formula and intuition behind the mean, median, mode and modal class\n",
    "* Compare mean-median-mode, along with histograms to explain the central tendency of given data"
   ]
  },
  {
   "cell_type": "markdown",
   "metadata": {},
   "source": [
    "**Note, for these exercises, you do not need to write code to answer them - we'll do that later. Just do them by hand or with a calculator to make sure you're comfortable with the process of calculating the answers!**\n",
    "\n",
    "### Exercise 1\n",
    "Calculate the mean, median and mode for this data set: \n",
    "```\n",
    "19, 18, 21, 16, 15, 17, 20, 18\n",
    "```\n",
    "While comparing the results of three measures, comment about this distribution. "
   ]
  },
  {
   "cell_type": "code",
   "execution_count": 7,
   "metadata": {},
   "outputs": [
    {
     "data": {
      "image/png": "[encoded data removed]",
      "text/plain": [
       "<Figure size 576x432 with 1 Axes>"
      ]
     },
     "metadata": {
      "needs_background": "light"
     },
     "output_type": "display_data"
    },
    {
     "name": "stdout",
     "output_type": "stream",
     "text": [
      "Mean: 18.0\n",
      "Median: 18\n",
      "Mode: 18\n"
     ]
    }
   ],
   "source": [
    "from statistics import mean\n",
    "import matplotlib.pyplot as plt\n",
    "plt.style.use(\"seaborn-whitegrid\")\n",
    "%matplotlib inline\n",
    "\n",
    "data_list = [19, 18, 21, 16, 15, 17, 20, 18]\n",
    "def get_ct(data_list):\n",
    "    data_list.sort()\n",
    "    mean_value = sum(data_list)/len(data_list)\n",
    "    median_value = mean(data_list[3:5])\n",
    "    number_counts = {}\n",
    "    for number in data_list:\n",
    "        if number not in number_counts.keys():\n",
    "            number_counts[number] = 1\n",
    "        else:\n",
    "            number_counts[number] +=1\n",
    "    mode_value = max(number_counts, key=number_counts.get)\n",
    "    #print(number_counts)\n",
    "    plt.figure(figsize=(8,6))\n",
    "    plt.bar(number_counts.keys(), number_counts.values())\n",
    "    plt.xlabel(\"Number\")\n",
    "    plt.ylabel(\"Occurrences\")\n",
    "    plt.show()\n",
    "    print(\"Mean:\",mean_value)\n",
    "    print(\"Median:\",median_value)\n",
    "    print(\"Mode:\",mode_value)\n",
    "\n",
    "get_ct(data_list)\n",
    "# All measures are 18: perfectly symmetrical distribution"
   ]
  },
  {
   "cell_type": "markdown",
   "metadata": {},
   "source": [
    "### Exercise 2\n",
    "\n",
    "Calculate the mean, median and mode for given distribution and state which of these measures does not describe the \"middle\" of this data set? and why ?\n",
    "```\n",
    "100, 99, 97, 97, 96, 98, 95, 72\n",
    "```"
   ]
  },
  {
   "cell_type": "code",
   "execution_count": 9,
   "metadata": {},
   "outputs": [
    {
     "data": {
      "image/png": "[encoded data removed]",
      "text/plain": [
       "<Figure size 576x432 with 1 Axes>"
      ]
     },
     "metadata": {
      "needs_background": "light"
     },
     "output_type": "display_data"
    },
    {
     "name": "stdout",
     "output_type": "stream",
     "text": [
      "Mean: 94.25\n",
      "Median: 97\n",
      "Mode: 97\n"
     ]
    }
   ],
   "source": [
    "data_list_2 = [100, 99, 97, 97, 96, 98, 95, 72]\n",
    "get_ct(data_list_2)\n",
    "# The mean does not descibe the middle of the data set because 72 is an extreme outlier\n",
    "# Median and Mode are more useful for determining Central Tendency for this data set"
   ]
  },
  {
   "cell_type": "markdown",
   "metadata": {},
   "source": [
    "### Exercise 3\n",
    "On the first three days of his bookshop opening, Joe sold 15, 18, and 16 books (He initially hoped that he would sell 17 books every day).  How many books does he need to sell on the next day to have a mean sale of 17?"
   ]
  },
  {
   "cell_type": "code",
   "execution_count": 11,
   "metadata": {},
   "outputs": [
    {
     "data": {
      "text/plain": [
       "19"
      ]
     },
     "execution_count": 11,
     "metadata": {},
     "output_type": "execute_result"
    }
   ],
   "source": [
    "# 17 = (15+18+16+X)/4\n",
    "# 68 = 49 + X\n",
    "X = 68 - 49\n",
    "X\n",
    "# Joe will need to sell 19 books to have a mean sale of 17 over 4 days"
   ]
  },
  {
   "cell_type": "markdown",
   "metadata": {},
   "source": [
    "### Exercise 4\n",
    "The histograms show the amount of time (hours per day) spent on Facebook by 46 middle school girls and 40 middle school boys from a school in San Francisco. A total of 50 boys and 50 girls took the survey, 4 girls and 10 boys did not use Facebook at all. \n",
    "Each is graphed with a bin width of 0.25 hours.\n",
    "\n",
    "![](boys.png)\n",
    "![](girls.png)\n",
    "\n",
    "Looking at these histograms, answer following questions. \n",
    "\n",
    "*Hint: For most parts, you will have to figure out the location of required bins and count the frequencies. *\n",
    "\n",
    "#### How many boys spend more than 1.5 hours/day on Facebook?\n"
   ]
  },
  {
   "cell_type": "code",
   "execution_count": 9,
   "metadata": {},
   "outputs": [],
   "source": [
    "# 8 boys (5+3)"
   ]
  },
  {
   "cell_type": "markdown",
   "metadata": {},
   "source": [
    "#### Compare the percentage of boys and girls that spend more than zero but less than 1 hour/day on Facebook."
   ]
  },
  {
   "cell_type": "code",
   "execution_count": 12,
   "metadata": {},
   "outputs": [],
   "source": [
    "# Number of boys in usage group: 20, total number of boys 40\n",
    "# Percentage of total boys: 50%\n",
    "# Number of girls in usage group: 10, total number of girls 46\n",
    "# Percentage of girls total girls: 21.7%"
   ]
  },
  {
   "cell_type": "markdown",
   "metadata": {},
   "source": [
    "#### Find the bin where the median of the boys' data set lies."
   ]
  },
  {
   "cell_type": "code",
   "execution_count": 13,
   "metadata": {},
   "outputs": [],
   "source": [
    "# The solution page says that the median lies in the 0.75 - 1 hr/day bin,\n",
    "# However, that bin only contains the 20th data point, and not the 21st, which is in the next bin\n",
    "# Since there are an even number of boys (40) in the data set, it is more appropriate to say\n",
    "# that the median values are in both the 0.75 - 1 hr/day and 1 - 1.25 hr/day bins"
   ]
  },
  {
   "cell_type": "markdown",
   "metadata": {},
   "source": [
    "#### In terms of Facebook usage times based on given data, what can you conclude about usage habits of boys and girls?"
   ]
  },
  {
   "cell_type": "code",
   "execution_count": 12,
   "metadata": {},
   "outputs": [],
   "source": [
    "# Boys tend to use facebook for shorter times on average than girls do\n",
    "# Girls have a wider distribution of usage times than boys do\n",
    "# Most girls observed use facebook longer per day than any of the boys observed."
   ]
  }
 ],
 "metadata": {
  "kernelspec": {
   "display_name": "Python 3",
   "language": "python",
   "name": "python3"
  },
  "language_info": {
   "codemirror_mode": {
    "name": "ipython",
    "version": 3
   },
   "file_extension": ".py",
   "mimetype": "text/x-python",
   "name": "python",
   "nbconvert_exporter": "python",
   "pygments_lexer": "ipython3",
   "version": "3.6.6"
  }
 },
 "nbformat": 4,
 "nbformat_minor": 2
}
